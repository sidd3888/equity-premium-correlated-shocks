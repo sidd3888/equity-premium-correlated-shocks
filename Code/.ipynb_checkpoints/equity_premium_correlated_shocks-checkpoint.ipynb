{
 "cells": [
  {
   "cell_type": "code",
   "execution_count": 1,
   "id": "109895de-72f1-4203-805b-0ef9b73d91c6",
   "metadata": {},
   "outputs": [],
   "source": [
    "import numpy as np\n",
    "import HARK\n",
    "from scipy.optimize import root_scalar\n",
    "from scipy.interpolate import CubicSpline, InterpolatedUnivariateSpline\n",
    "from matplotlib import pyplot as plt"
   ]
  },
  {
   "cell_type": "code",
   "execution_count": 2,
   "id": "f647524e-ec98-4b65-bd89-f288bf5eb372",
   "metadata": {},
   "outputs": [],
   "source": [
    "def u(c, ρ):\n",
    "  if ρ == 1:\n",
    "    return np.log(c)\n",
    "  elif ρ >= 0:\n",
    "    return (c ** (1 - ρ)) / (1 - ρ)\n",
    "  else:\n",
    "    raise ValueError(\"σ must be non-negative\")"
   ]
  },
  {
   "cell_type": "code",
   "execution_count": 76,
   "id": "670acabe-c482-4032-936c-9c2687190a60",
   "metadata": {},
   "outputs": [],
   "source": [
    "# Determine parameters for solution\n",
    "\n",
    "ρ, Γ, Rf, ℜ, β = 4, 1.03, 1.04, 1.10, 0.8\n",
    "\n",
    "T = 120\n",
    "\n",
    "\n",
    "# Shocks in the order η, ν, ζ\n",
    "\n",
    "Σ = np.array(\n",
    "    [\n",
    "        [0.3, 0.0, 0.0],\n",
    "        [0.0, 0.5, 0.0],\n",
    "        [0.0, 0.0, 0.3]\n",
    "    ]\n",
    ")\n",
    "\n",
    "μ = - np.diag(Σ) / 2"
   ]
  },
  {
   "cell_type": "code",
   "execution_count": 4,
   "id": "f807fc61-9487-4c1f-a46d-db1c16dd16c3",
   "metadata": {},
   "outputs": [],
   "source": [
    "shocks = HARK.distribution.MVLogNormal(μ, Σ)\n",
    "\n",
    "shocks_approx = shocks._approx_equiprobable(N = 10, tail_bound = [0.0015, 0.9985], endpoints = True)\n",
    "\n",
    "worst = shocks_approx.atoms.min(axis=1)"
   ]
  },
  {
   "cell_type": "code",
   "execution_count": 4,
   "id": "935e5e26-1372-455b-91be-fd6f6985bb05",
   "metadata": {},
   "outputs": [],
   "source": [
    "def m(a, Rf, ℜ, κ, Γ, atom):\n",
    "    η, ν, ζ = atom\n",
    "\n",
    "    return (a * (Rf + κ * (ℜ * ν - Rf)) / (Γ * η)) + ζ\n",
    "\n",
    "def κ_inv_euler(κ, a, c_next, Rf, ℜ, Γ, ρ, shocks_approx):\n",
    "\n",
    "    def ℓ(atom):\n",
    "        return m(a, Rf, ℜ, κ, Γ, atom)\n",
    "\n",
    "    def g(atom):\n",
    "        η, ν, ζ = atom\n",
    "        \n",
    "        return ((ℜ * ν) - Rf) * ((Γ * η * c_next(ℓ(atom))) ** (-ρ))\n",
    "\n",
    "    return shocks_approx.expected(func = g)\n",
    "\n",
    "def κ_hat(a, c_next, Rf, ℜ, Γ, ρ, shocks_approx):\n",
    "\n",
    "    κ_func = lambda x : κ_inv_euler(x, a = a, c_next = c_next, Rf = Rf, ℜ = ℜ, Γ = Γ, ρ = ρ, shocks_approx = shocks_approx)\n",
    "\n",
    "    κ = root_scalar(κ_func, method=\"newton\", x0 = 0.3)['root']\n",
    "\n",
    "    return κ"
   ]
  },
  {
   "cell_type": "code",
   "execution_count": 5,
   "id": "24ef7c51-dbe7-4b03-800e-c37a0c556bd9",
   "metadata": {},
   "outputs": [],
   "source": [
    "def c_hat(a, κ, c_next, Rf, ℜ, Γ, ρ, β, shocks_approx):\n",
    "\n",
    "    def ℓ(atom):\n",
    "        return m(a, Rf, ℜ, κ, Γ, atom)\n",
    "\n",
    "    def c_rho(atom):\n",
    "        η, ν, ζ = atom\n",
    "\n",
    "        return (β * Rf * ((Γ * η * c_next(ℓ(atom))) ** (-ρ)))\n",
    "\n",
    "    return (shocks_approx.expected(func = c_rho)) ** (-1/ρ)"
   ]
  },
  {
   "cell_type": "code",
   "execution_count": 6,
   "id": "161a8fb5-f14e-4430-9fd0-61fa5ff9f678",
   "metadata": {},
   "outputs": [],
   "source": [
    "def solve_finite_period_model(ρ, Γ, Rf, ℜ, β, μ, Σ, T, n = 20, boroConst : bool = False, N = 10, tail_bound = [0.0015, 0.9985], decomp=\"cholesky\", interp=\"linear\"):\n",
    "\n",
    "    shocks = HARK.distribution.MVLogNormal(μ, Σ)\n",
    "\n",
    "    shocks_discrete = shocks._approx_equiprobable(N = N, tail_bound = tail_bound, endpoints=False, decomp=decomp)\n",
    "\n",
    "    worst = shocks_discrete.atoms.min(axis=1)\n",
    "\n",
    "    ηMin, νMin, ζMin = worst\n",
    "\n",
    "    aMin = (-ζMin) * Γ * ηMin / (ℜ * νMin)\n",
    "\n",
    "    t = T - 1\n",
    "\n",
    "    aLogGrid = np.linspace(-2, 2, n-1)\n",
    "\n",
    "    aNrmDiffs = np.exp(aLogGrid)\n",
    "\n",
    "    aNrmGrid = np.empty(n)\n",
    "\n",
    "    if boroConst is True:\n",
    "        aNrmGrid[0] = 0\n",
    "        aNrmGrid[1:] = aNrmDiffs\n",
    "    else:\n",
    "        aNrmGrid[0] = aMin\n",
    "        aNrmGrid[1:] = aNrmDiffs + aMin\n",
    "\n",
    "    aNrmGrid = np.where(aNrmGrid == 0.0, 0.001, aNrmGrid)\n",
    "\n",
    "    c_T = lambda x : x\n",
    "\n",
    "    policies = [{'cFunc': c_T}]\n",
    "\n",
    "    while t > 0:\n",
    "        c_next = policies[T-(t+1)]['cFunc']\n",
    "\n",
    "        κ_hat_vec = np.vectorize(lambda a : κ_hat(a, c_next, Rf, ℜ, Γ, ρ, shocks_discrete))\n",
    "\n",
    "        κ_opt = κ_hat_vec(aNrmGrid)\n",
    "\n",
    "        κGrid = np.where(κ_opt > 1, 1, np.where(κ_opt < 0, 0, κ_opt))\n",
    "\n",
    "        def c_hat_opt(a, κ):\n",
    "            return c_hat(a, κ, c_next, Rf, ℜ, Γ, ρ, β, shocks_discrete)\n",
    "\n",
    "        c_hat_vec = np.vectorize(c_hat_opt)\n",
    "\n",
    "        cNrm_opt = c_hat_vec(aNrmGrid, κGrid)\n",
    "\n",
    "        cNrmGrid = np.where(cNrm_opt < 0, 0, cNrm_opt)\n",
    "\n",
    "        mNrmGrid = cNrmGrid + aNrmGrid\n",
    "\n",
    "        if boroConst is True:\n",
    "            κvals = np.empty(n+1)\n",
    "            κvals[0] = 0.0\n",
    "            κvals[1:] = κGrid\n",
    "\n",
    "            cvals = np.empty(n+1)\n",
    "            cvals[0] = 0.0\n",
    "            cvals[1:] = cNrmGrid\n",
    "\n",
    "            mvals = np.zeros(n+1)\n",
    "            mvals[1:] = mNrmGrid\n",
    "        else:\n",
    "            κvals = κGrid\n",
    "            cvals = cNrmGrid\n",
    "            mvals = aNrmGrid + cNrmGrid\n",
    "\n",
    "        if interp==\"linear\":\n",
    "            cFunc_t = InterpolatedUnivariateSpline(mvals, cvals, k=1)\n",
    "            κFunc_t = InterpolatedUnivariateSpline(mvals, κvals, k=1)\n",
    "        elif interp==\"spline\":\n",
    "            cFunc_t = InterpolatedUnivariateSpline(mvals, cvals, k=3)\n",
    "            κFunc_t = InterpolatedUnivariateSpline(mvals, κvals, k=3)\n",
    "        elif interp==\"SL\":\n",
    "            cFunc_t = InterpolatedUnivariateSpline(mvals, cvals, k=3)\n",
    "            κFunc_t = InterpolatedUnivariateSpline(mvals, κvals, k=1)\n",
    "\n",
    "        policy_t = {\"cFunc\":cFunc_t, \"κFunc\":κFunc_t, \"mNrmGrid\":mvals, \"κGrid\":κvals, \"cNrmGrid\":cvals}\n",
    "\n",
    "        policies.append(policy_t)\n",
    "\n",
    "        t -= 1\n",
    "\n",
    "    policies.reverse()\n",
    "\n",
    "    return policies"
   ]
  },
  {
   "cell_type": "code",
   "execution_count": 73,
   "id": "07c7c58b",
   "metadata": {},
   "outputs": [],
   "source": [
    "def solve_infinite_horizon_model(ρ, Γ, Rf, ℜ, β, μ, Σ, Cguess, n = 20, boroConst : bool = False, N = 10, tail_bound = [0.0015, 0.9985], decomp=\"cholesky\", interp=\"linear\", maxiter=100, tol=1e-6):\n",
    "    shocks = HARK.distribution.MVLogNormal(μ, Σ)\n",
    "\n",
    "    shocks_discrete = shocks._approx_equiprobable(N = N, tail_bound = tail_bound, endpoints=False, decomp=decomp)\n",
    "\n",
    "    worst = shocks_discrete.atoms.min(axis=1)\n",
    "\n",
    "    ηMin, νMin, ζMin = worst\n",
    "\n",
    "    aMin = (-ζMin) * Γ * ηMin / (ℜ * νMin)\n",
    "\n",
    "    aLogGrid = np.linspace(-2, 2.5, n-1)\n",
    "\n",
    "    aNrmDiffs = np.exp(aLogGrid)\n",
    "\n",
    "    aNrmGrid = np.empty(n)\n",
    "\n",
    "    if boroConst is True:\n",
    "        aNrmGrid[0] = 0\n",
    "        aNrmGrid[1:] = aNrmDiffs\n",
    "    else:\n",
    "        aNrmGrid[0] = aMin\n",
    "        aNrmGrid[1:] = aNrmDiffs + aMin\n",
    "\n",
    "    aNrmGrid = np.where(aNrmGrid == 0.0, 0.001, aNrmGrid)\n",
    "\n",
    "    c_T = Cguess\n",
    "\n",
    "    policies = [{'cFunc': c_T}]\n",
    "\n",
    "    iter = 0\n",
    "    error = 100\n",
    "\n",
    "    while (iter < maxiter) and (error > tol):\n",
    "        c_prev = policies[-1]['cFunc']\n",
    "\n",
    "        κ_hat_vec = np.vectorize(lambda a : κ_hat(a, c_prev, Rf, ℜ, Γ, ρ, shocks_discrete))\n",
    "\n",
    "        κ_opt = κ_hat_vec(aNrmGrid)\n",
    "\n",
    "        κGrid = np.where(κ_opt > 1, 1, np.where(κ_opt < 0, 0, κ_opt))\n",
    "\n",
    "        def c_hat_opt(a, κ):\n",
    "            return c_hat(a, κ, c_prev, Rf, ℜ, Γ, ρ, β, shocks_discrete)\n",
    "\n",
    "        c_hat_vec = np.vectorize(c_hat_opt)\n",
    "\n",
    "        cNrm_opt = c_hat_vec(aNrmGrid, κGrid)\n",
    "\n",
    "        cNrmGrid = np.where(cNrm_opt < 0, 0, cNrm_opt)\n",
    "\n",
    "        mNrmGrid = cNrmGrid + aNrmGrid\n",
    "\n",
    "        if boroConst is True:\n",
    "            κvals = np.empty(n+1)\n",
    "            κvals[0] = κGrid[0]\n",
    "            κvals[1:] = κGrid\n",
    "\n",
    "            cvals = np.empty(n+1)\n",
    "            cvals[0] = 0.0\n",
    "            cvals[1:] = cNrmGrid\n",
    "\n",
    "            mvals = np.zeros(n+1)\n",
    "            mvals[1:] = mNrmGrid\n",
    "        else:\n",
    "            κvals = κGrid\n",
    "            cvals = cNrmGrid\n",
    "            mvals = aNrmGrid + cNrmGrid\n",
    "\n",
    "        if interp==\"linear\":\n",
    "            cFunc_t = InterpolatedUnivariateSpline(mvals, cvals, k=1)\n",
    "            κFunc_t = InterpolatedUnivariateSpline(mvals, κvals, k=1)\n",
    "        elif interp==\"spline\":\n",
    "            cFunc_t = InterpolatedUnivariateSpline(mvals, cvals, k=3)\n",
    "            κFunc_t = InterpolatedUnivariateSpline(mvals, κvals, k=3)\n",
    "        elif interp==\"SL\":\n",
    "            cFunc_t = InterpolatedUnivariateSpline(mvals, cvals, k=3)\n",
    "            κFunc_t = InterpolatedUnivariateSpline(mvals, κvals, k=1)\n",
    "\n",
    "        policy_t = {\"cFunc\":cFunc_t, \"κFunc\":κFunc_t, \"mNrmGrid\":mvals, \"κGrid\":κvals, \"cNrmGrid\":cvals}\n",
    "\n",
    "        policies.append(policy_t)\n",
    "\n",
    "        iter += 1\n",
    "\n",
    "        if iter > 1:\n",
    "            m_prev = policies[-2]['mNrmGrid']\n",
    "            κ_prev = policies[-2]['κGrid']\n",
    "            errors = np.array([np.max(np.abs(mvals - m_prev)), np.max(np.abs(κvals - κ_prev))])\n",
    "            error = np.max(errors)\n",
    "\n",
    "    policies.reverse()\n",
    "\n",
    "    return policies"
   ]
  },
  {
   "cell_type": "code",
   "execution_count": 43,
   "id": "3d5e311e-270f-4073-b7ed-81b6c41137e7",
   "metadata": {},
   "outputs": [],
   "source": [
    "solution = solve_finite_period_model(ρ=ρ, Γ=Γ, Rf=Rf, ℜ=ℜ, β=β, μ=μ, Σ=Σ, T=T, n = 20, boroConst=False, interp=\"SL\")"
   ]
  },
  {
   "cell_type": "code",
   "execution_count": 80,
   "id": "5713217f-3cca-46ea-96b7-2b159a430d7f",
   "metadata": {},
   "outputs": [],
   "source": [
    "solution_inf = solve_infinite_horizon_model(ρ=ρ, Γ=Γ, Rf=Rf, ℜ=ℜ, β=β, μ=μ, Σ=Σ, Cguess=lambda x : 0.5 * x, n = 20, boroConst=True, interp=\"SL\")"
   ]
  },
  {
   "cell_type": "code",
   "execution_count": 16,
   "id": "3238f9e0",
   "metadata": {},
   "outputs": [
    {
     "data": {
      "text/plain": [
       "<scipy.interpolate._fitpack2.InterpolatedUnivariateSpline at 0x1d01107ddb0>"
      ]
     },
     "execution_count": 16,
     "metadata": {},
     "output_type": "execute_result"
    }
   ],
   "source": [
    "solution[0]['cFunc']"
   ]
  },
  {
   "cell_type": "code",
   "execution_count": 24,
   "id": "4aed0de0",
   "metadata": {},
   "outputs": [],
   "source": [
    "solution2 = solve_infinite_horizon_model(ρ=ρ, Γ=Γ, Rf=Rf, ℜ=ℜ, β=β, μ=μ, Σ=Σ, Cguess=lambda x : 0.5 * x, n = 20, boroConst=False, interp=\"linear\")"
   ]
  },
  {
   "cell_type": "code",
   "execution_count": 65,
   "id": "3ea53e25-0372-492e-851c-e2c39c2365d0",
   "metadata": {},
   "outputs": [
    {
     "data": {
      "image/png": "[encoded data removed]",
      "text/plain": [
       "<Figure size 640x480 with 1 Axes>"
      ]
     },
     "metadata": {},
     "output_type": "display_data"
    }
   ],
   "source": [
    "mGrid = np.linspace(0, 10, 400)\n",
    "\n",
    "for i in range(0, T-1):\n",
    "    plt.plot(mGrid, solution[i]['κFunc'](mGrid))"
   ]
  },
  {
   "cell_type": "code",
   "execution_count": 81,
   "id": "cc3664da-61cb-440a-a005-ce224524c4bf",
   "metadata": {},
   "outputs": [
    {
     "data": {
      "text/plain": [
       "[<matplotlib.lines.Line2D at 0x29f6be314b0>]"
      ]
     },
     "execution_count": 81,
     "metadata": {},
     "output_type": "execute_result"
    },
    {
     "data": {
      "image/png": "[encoded data removed]",
      "text/plain": [
       "<Figure size 640x480 with 1 Axes>"
      ]
     },
     "metadata": {},
     "output_type": "display_data"
    }
   ],
   "source": [
    "plt.plot(mGrid, solution_inf[0]['κFunc'](mGrid))"
   ]
  },
  {
   "cell_type": "code",
   "execution_count": null,
   "id": "4e3ab4e0-53cb-45dc-b1dc-299679edf0fa",
   "metadata": {},
   "outputs": [],
   "source": []
  },
  {
   "cell_type": "code",
   "execution_count": 64,
   "id": "30134c09-93e0-43a4-87f6-a5b2ca2fbf5b",
   "metadata": {},
   "outputs": [
    {
     "data": {
      "text/plain": [
       "array([0.        , 0.17282453, 0.35224223, 0.39602343, 0.45027151,\n",
       "       0.5174764 , 0.60073   , 0.70387681, 0.8317032 , 0.99017527,\n",
       "       1.18673774, 1.4306923 , 1.73367639, 2.11026784, 2.57875081,\n",
       "       3.16207974, 3.88915234, 4.79648527, 5.93038809, 7.34983361,\n",
       "       9.13021739])"
      ]
     },
     "execution_count": 64,
     "metadata": {},
     "output_type": "execute_result"
    }
   ],
   "source": [
    "solution_inf[0]['mNrmGrid']"
   ]
  },
  {
   "cell_type": "code",
   "execution_count": 12,
   "id": "bb5dacbb",
   "metadata": {},
   "outputs": [],
   "source": [
    "# plt.plot(mGrid, np.interp(mGrid, solution[48]['mNrmGrid'], solution[48]['cNrmGrid']))"
   ]
  },
  {
   "cell_type": "code",
   "execution_count": 13,
   "id": "e117e80b-5182-42ec-a811-988a69c8515a",
   "metadata": {},
   "outputs": [],
   "source": [
    "# plt.plot(mGrid, np.interp(mGrid, solution[48]['mNrmGrid'], solution[48]['κGrid']))"
   ]
  },
  {
   "cell_type": "code",
   "execution_count": 14,
   "id": "68ca63e2-186e-426c-93e6-8e78659b51e1",
   "metadata": {},
   "outputs": [],
   "source": [
    "# solution[48]['κGrid']"
   ]
  },
  {
   "cell_type": "code",
   "execution_count": null,
   "id": "07b9aba0",
   "metadata": {},
   "outputs": [],
   "source": []
  }
 ],
 "metadata": {
  "kernelspec": {
   "display_name": "Python 3 (ipykernel)",
   "language": "python",
   "name": "python3"
  },
  "language_info": {
   "codemirror_mode": {
    "name": "ipython",
    "version": 3
   },
   "file_extension": ".py",
   "mimetype": "text/x-python",
   "name": "python",
   "nbconvert_exporter": "python",
   "pygments_lexer": "ipython3",
   "version": "3.10.15"
  }
 },
 "nbformat": 4,
 "nbformat_minor": 5
}
